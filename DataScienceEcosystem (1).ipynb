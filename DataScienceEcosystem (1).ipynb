{
 "cells": [
  {
   "cell_type": "markdown",
   "id": "0bcd9dc3-f090-46cf-97aa-3cc1fc294ab3",
   "metadata": {},
   "source": [
    "# Data Science Tools and Ecosystem"
   ]
  },
  {
   "cell_type": "markdown",
   "id": "cd2cdf83-e581-4f5e-8dc6-aaff643cdffd",
   "metadata": {},
   "source": [
    "In this notebook, Data Science Tools and Ecosystem are summarized."
   ]
  },
  {
   "cell_type": "markdown",
   "id": "e6abcd9d-e225-4d9f-80db-e80049a1464f",
   "metadata": {},
   "source": [
    "Some of the popular languages that Data Scientists use are:\n",
    "* python\n",
    "* R\n",
    "* JAVA"
   ]
  },
  {
   "cell_type": "markdown",
   "id": "7ad40eb1-cdbd-4daf-9753-005e35873bcc",
   "metadata": {},
   "source": [
    "Some of the commonly used libraries used by Data Scientists include:\n",
    "1. pandas\n",
    "2. numpy\n",
    "3. matplotlib\n"
   ]
  },
  {
   "cell_type": "markdown",
   "id": "42eef8cf-706e-4766-b687-31ff6fd2feb7",
   "metadata": {},
   "source": [
    "|Data Science Tools|\n",
    "|-|\n",
    "|jupyterlab|\n",
    "|rstudio|\n",
    "|vscode|"
   ]
  },
  {
   "cell_type": "markdown",
   "id": "2462c9a1-657e-4d8b-8f49-ba0d6ce7ffb3",
   "metadata": {},
   "source": [
    "### Below are a few examples of evaluating arithmetic expressions in Python"
   ]
  },
  {
   "cell_type": "code",
   "execution_count": 1,
   "id": "67137a66-7d63-448c-b473-e8e1cfc219d6",
   "metadata": {},
   "outputs": [
    {
     "data": {
      "text/plain": [
       "17"
      ]
     },
     "execution_count": 1,
     "metadata": {},
     "output_type": "execute_result"
    }
   ],
   "source": [
    "# This a simple arithmetic expression to mutiply then add integers\n",
    "(3*4)+5"
   ]
  },
  {
   "cell_type": "code",
   "execution_count": 2,
   "id": "dffa1c25-ef14-46c4-8aac-6acffc8f55c2",
   "metadata": {},
   "outputs": [
    {
     "name": "stdout",
     "output_type": "stream",
     "text": [
      "3.3333333333333335\n"
     ]
    }
   ],
   "source": [
    "# This will convert 200 minutes to hours by diving by 60\n",
    "hours =200/60\n",
    "print(hours)"
   ]
  },
  {
   "cell_type": "markdown",
   "id": "d58fd305-a776-4ed4-bba8-4d6af69fad3e",
   "metadata": {},
   "source": [
    "**Objectives:**\n",
    "* List popular languages for Data Science\n",
    "* List popular libraries for Data Science\n",
    "* List popular tools for Data Science"
   ]
  },
  {
   "cell_type": "markdown",
   "id": "091a880f-4848-47d2-bee9-d1fffea4b37f",
   "metadata": {},
   "source": [
    "## Author\n",
    "Qinbo Zhai"
   ]
  },
  {
   "cell_type": "code",
   "execution_count": null,
   "id": "204793e3-88f9-43e0-9abb-548ca3c41f71",
   "metadata": {},
   "outputs": [],
   "source": []
  }
 ],
 "metadata": {
  "kernelspec": {
   "display_name": "Python 3 (ipykernel)",
   "language": "python",
   "name": "python3"
  },
  "language_info": {
   "codemirror_mode": {
    "name": "ipython",
    "version": 3
   },
   "file_extension": ".py",
   "mimetype": "text/x-python",
   "name": "python",
   "nbconvert_exporter": "python",
   "pygments_lexer": "ipython3",
   "version": "3.12.7"
  }
 },
 "nbformat": 4,
 "nbformat_minor": 5
}
